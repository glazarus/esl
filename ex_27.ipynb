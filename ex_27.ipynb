{
 "cells": [
  {
   "cell_type": "code",
   "execution_count": 245,
   "metadata": {},
   "outputs": [],
   "source": [
    "import numpy as np\n",
    "import matplotlib as mpl\n",
    "import matplotlib.pyplot as plt\n",
    "from numpy.linalg import lstsq\n",
    "import pandas as pd\n",
    "from sklearn import neighbors"
   ]
  },
  {
   "cell_type": "code",
   "execution_count": 31,
   "metadata": {
    "collapsed": true
   },
   "outputs": [],
   "source": [
    "%matplotlib inline"
   ]
  },
  {
   "cell_type": "code",
   "execution_count": 37,
   "metadata": {},
   "outputs": [],
   "source": [
    "def loadZipCodeData(filename):\n",
    "    \"\"\"\n",
    "    Loads zipcode data from file\n",
    "    \n",
    "    Returns numpy arrays X, Y\n",
    "    \"\"\"\n",
    "    with open(filename, 'r') as f:\n",
    "        all_lines = (line.strip().split() for line in f)\n",
    "        all_lines_float = (\n",
    "            [\n",
    "                float(item)\n",
    "                for item in line\n",
    "            ]\n",
    "            for line in all_lines\n",
    "        )\n",
    "        yx = (\n",
    "            (line[0], line[1:])\n",
    "            for line in all_lines_float\n",
    "        )\n",
    "        Y, X = zip(*yx)\n",
    "    return np.array(X), np.array(Y)"
   ]
  },
  {
   "cell_type": "code",
   "execution_count": 174,
   "metadata": {},
   "outputs": [],
   "source": [
    "train_x, train_y = loadZipCodeData('zip.train')\n",
    "train_y_cat = pd.get_dummies(train_y).values\n",
    "test_x, test_y = loadZipCodeData('zip.test')\n",
    "test_y_cat = pd.get_dummies(test_y).values"
   ]
  },
  {
   "cell_type": "code",
   "execution_count": 175,
   "metadata": {},
   "outputs": [
    {
     "data": {
      "text/plain": [
       "array([[0, 0, 0, ..., 0, 0, 0],\n",
       "       [0, 0, 0, ..., 0, 0, 0],\n",
       "       [0, 0, 0, ..., 0, 0, 0],\n",
       "       ..., \n",
       "       [0, 0, 0, ..., 0, 0, 0],\n",
       "       [1, 0, 0, ..., 0, 0, 0],\n",
       "       [0, 1, 0, ..., 0, 0, 0]], dtype=uint8)"
      ]
     },
     "execution_count": 175,
     "metadata": {},
     "output_type": "execute_result"
    }
   ],
   "source": [
    "train_y_cat"
   ]
  },
  {
   "cell_type": "code",
   "execution_count": 144,
   "metadata": {},
   "outputs": [
    {
     "name": "stdout",
     "output_type": "stream",
     "text": [
      "9.0\n"
     ]
    },
    {
     "data": {
      "text/plain": [
       "<matplotlib.image.AxesImage at 0x10bcff210>"
      ]
     },
     "execution_count": 144,
     "metadata": {},
     "output_type": "execute_result"
    },
    {
     "data": {
      "image/png": "[encoded data removed]",
      "text/plain": [
       "<matplotlib.figure.Figure at 0x107512050>"
      ]
     },
     "metadata": {},
     "output_type": "display_data"
    }
   ],
   "source": [
    "print(test_y[0])\n",
    "plt.imshow(test_x[0].reshape(16,16), cmap=plt.get_cmap('Greys'))"
   ]
  },
  {
   "cell_type": "code",
   "execution_count": 145,
   "metadata": {},
   "outputs": [
    {
     "name": "stdout",
     "output_type": "stream",
     "text": [
      "6.0\n"
     ]
    },
    {
     "data": {
      "text/plain": [
       "<matplotlib.image.AxesImage at 0x10bb0f490>"
      ]
     },
     "execution_count": 145,
     "metadata": {},
     "output_type": "execute_result"
    },
    {
     "data": {
      "image/png": "[encoded data removed]",
      "text/plain": [
       "<matplotlib.figure.Figure at 0x10983a850>"
      ]
     },
     "metadata": {},
     "output_type": "display_data"
    }
   ],
   "source": [
    "print(test_y[1])\n",
    "plt.imshow(test_x[1].reshape(16,16), cmap=plt.get_cmap('Greys'))"
   ]
  },
  {
   "cell_type": "code",
   "execution_count": 263,
   "metadata": {
    "collapsed": true
   },
   "outputs": [],
   "source": [
    "def solve_regression(X, Y):\n",
    "    X_transpose = X.T\n",
    "    return np.matmul(\n",
    "        np.matmul(\n",
    "            np.linalg.inv(\n",
    "                np.matmul(X_transpose, X)), \n",
    "            X_transpose),\n",
    "        Y) "
   ]
  },
  {
   "cell_type": "code",
   "execution_count": 266,
   "metadata": {},
   "outputs": [
    {
     "name": "stdout",
     "output_type": "stream",
     "text": [
      "train_error: 7.62584007681%\n",
      "test_error: 13.0044843049%\n"
     ]
    }
   ],
   "source": [
    "A = solve_regression(train_x, train_y_cat)\n",
    "print(\"train_error: {}%\".format(\n",
    "    100*np.count_nonzero(train_y - np.argmax(np.matmul(train_x, A), axis=1))/float(len(train_y_cat))))\n",
    "print(\"test_error: {}%\".format(100*np.count_nonzero(test_y - np.argmax(np.matmul(test_x, A), axis=1))\n",
    "                               /float(len(test_y_cat))))"
   ]
  },
  {
   "cell_type": "code",
   "execution_count": 201,
   "metadata": {
    "collapsed": true
   },
   "outputs": [],
   "source": [
    "A, res = lstsq(train_x, train_y_cat)[0:2]"
   ]
  },
  {
   "cell_type": "code",
   "execution_count": 211,
   "metadata": {},
   "outputs": [
    {
     "name": "stdout",
     "output_type": "stream",
     "text": [
      "train_error: 7.62584007681%\n"
     ]
    }
   ],
   "source": [
    "print(\"train_error: {}%\".format(\n",
    "    100*np.count_nonzero(train_y - np.argmax(np.matmul(train_x, A), axis=1))/float(len(train_y_cat))))"
   ]
  },
  {
   "cell_type": "code",
   "execution_count": 213,
   "metadata": {},
   "outputs": [
    {
     "name": "stdout",
     "output_type": "stream",
     "text": [
      "test_error: 13.0044843049%\n"
     ]
    }
   ],
   "source": [
    "print(\"test_error: {}%\".format(100*np.count_nonzero(test_y - np.argmax(np.matmul(test_x, A), axis=1))\n",
    "                               /float(len(test_y_cat))))"
   ]
  },
  {
   "cell_type": "code",
   "execution_count": 167,
   "metadata": {},
   "outputs": [
    {
     "data": {
      "text/plain": [
       "True"
      ]
     },
     "execution_count": 167,
     "metadata": {},
     "output_type": "execute_result"
    }
   ],
   "source": [
    "np.argmax(np.matmul(test_x, A)[2]) == test_y[2]"
   ]
  },
  {
   "cell_type": "code",
   "execution_count": 238,
   "metadata": {},
   "outputs": [],
   "source": [
    "def nearest_neighbor(X_train, Y_train, value, k):\n",
    "    distance = np.linalg.norm(X_train - value, axis=1)\n",
    "    idx = np.argpartition(distance, k)[:k]\n",
    "    return np.mean(Y_train[idx], axis=0)"
   ]
  },
  {
   "cell_type": "code",
   "execution_count": 241,
   "metadata": {},
   "outputs": [
    {
     "data": {
      "text/plain": [
       "9"
      ]
     },
     "execution_count": 241,
     "metadata": {},
     "output_type": "execute_result"
    }
   ],
   "source": [
    "np.argmax(nearest_neighbor(train_x, train_y_cat, test_x[0], 1))"
   ]
  },
  {
   "cell_type": "code",
   "execution_count": 240,
   "metadata": {},
   "outputs": [
    {
     "data": {
      "text/plain": [
       "9.0"
      ]
     },
     "execution_count": 240,
     "metadata": {},
     "output_type": "execute_result"
    }
   ],
   "source": [
    "test_y[0]"
   ]
  },
  {
   "cell_type": "code",
   "execution_count": 244,
   "metadata": {},
   "outputs": [
    {
     "name": "stdout",
     "output_type": "stream",
     "text": [
      "k = 1 test_error: 5.6302939711%\n",
      "k = 2 test_error: 5.87942202292%\n",
      "k = 3 test_error: 5.53064275037%\n",
      "k = 4 test_error: 5.68011958146%\n",
      "k = 5 test_error: 5.53064275037%\n",
      "k = 6 test_error: 6.12855007474%\n",
      "k = 7 test_error: 5.82959641256%\n",
      "k = 8 test_error: 5.92924763328%\n",
      "k = 9 test_error: 6.27802690583%\n"
     ]
    }
   ],
   "source": [
    "for k in range(1, 10):\n",
    "    correct = 0\n",
    "    for value, answer in zip(test_x, test_y):\n",
    "        res = nearest_neighbor(train_x, train_y_cat, value, k)\n",
    "        if np.argmax(res) == answer:\n",
    "            correct += 1\n",
    "    print(\"k = {} test_error: {}%\".format(k, 100. * (1 - correct / float(len(test_y)))))"
   ]
  },
  {
   "cell_type": "code",
   "execution_count": 249,
   "metadata": {},
   "outputs": [
    {
     "name": "stdout",
     "output_type": "stream",
     "text": [
      "k: 1 weights: uniform algorithm: auto test_error: 5.6302939711%\n",
      "k: 2 weights: uniform algorithm: auto test_error: 8.22122571001%\n",
      "k: 3 weights: uniform algorithm: auto test_error: 5.58046836074%\n",
      "k: 4 weights: uniform algorithm: auto test_error: 7.17488789238%\n",
      "k: 5 weights: uniform algorithm: auto test_error: 6.12855007474%\n",
      "k: 6 weights: uniform algorithm: auto test_error: 7.92227204783%\n",
      "k: 7 weights: uniform algorithm: auto test_error: 6.67663178874%\n",
      "k: 8 weights: uniform algorithm: auto test_error: 7.92227204783%\n",
      "k: 9 weights: uniform algorithm: auto test_error: 7.07523667165%\n",
      "k: 1 weights: distance algorithm: auto test_error: 5.6302939711%\n",
      "k: 2 weights: distance algorithm: auto test_error: 5.6302939711%\n",
      "k: 3 weights: distance algorithm: auto test_error: 5.58046836074%\n",
      "k: 4 weights: distance algorithm: auto test_error: 5.58046836074%\n",
      "k: 5 weights: distance algorithm: auto test_error: 6.07872446437%\n",
      "k: 6 weights: distance algorithm: auto test_error: 5.82959641256%\n",
      "k: 7 weights: distance algorithm: auto test_error: 6.67663178874%\n",
      "k: 8 weights: distance algorithm: auto test_error: 6.27802690583%\n",
      "k: 9 weights: distance algorithm: auto test_error: 6.97558545092%\n",
      "k: 1 weights: uniform algorithm: ball_tree test_error: 5.6302939711%\n",
      "k: 2 weights: uniform algorithm: ball_tree test_error: 8.22122571001%\n",
      "k: 3 weights: uniform algorithm: ball_tree test_error: 5.58046836074%\n",
      "k: 4 weights: uniform algorithm: ball_tree test_error: 7.17488789238%\n",
      "k: 5 weights: uniform algorithm: ball_tree test_error: 6.12855007474%\n",
      "k: 6 weights: uniform algorithm: ball_tree test_error: 7.92227204783%\n",
      "k: 7 weights: uniform algorithm: ball_tree test_error: 6.67663178874%\n",
      "k: 8 weights: uniform algorithm: ball_tree test_error: 7.92227204783%\n",
      "k: 9 weights: uniform algorithm: ball_tree test_error: 7.07523667165%\n",
      "k: 1 weights: distance algorithm: ball_tree test_error: 5.6302939711%\n",
      "k: 2 weights: distance algorithm: ball_tree test_error: 5.6302939711%\n",
      "k: 3 weights: distance algorithm: ball_tree test_error: 5.58046836074%\n",
      "k: 4 weights: distance algorithm: ball_tree test_error: 5.58046836074%\n",
      "k: 5 weights: distance algorithm: ball_tree test_error: 6.07872446437%\n",
      "k: 6 weights: distance algorithm: ball_tree test_error: 5.82959641256%\n",
      "k: 7 weights: distance algorithm: ball_tree test_error: 6.67663178874%\n",
      "k: 8 weights: distance algorithm: ball_tree test_error: 6.27802690583%\n",
      "k: 9 weights: distance algorithm: ball_tree test_error: 6.97558545092%\n",
      "k: 1 weights: uniform algorithm: kd_tree test_error: 5.6302939711%\n",
      "k: 2 weights: uniform algorithm: kd_tree test_error: 8.22122571001%\n",
      "k: 3 weights: uniform algorithm: kd_tree test_error: 5.58046836074%\n",
      "k: 4 weights: uniform algorithm: kd_tree test_error: 7.17488789238%\n",
      "k: 5 weights: uniform algorithm: kd_tree test_error: 6.12855007474%\n",
      "k: 6 weights: uniform algorithm: kd_tree test_error: 7.92227204783%\n",
      "k: 7 weights: uniform algorithm: kd_tree test_error: 6.67663178874%\n",
      "k: 8 weights: uniform algorithm: kd_tree test_error: 7.92227204783%\n",
      "k: 9 weights: uniform algorithm: kd_tree test_error: 7.07523667165%\n",
      "k: 1 weights: distance algorithm: kd_tree test_error: 5.6302939711%\n",
      "k: 2 weights: distance algorithm: kd_tree test_error: 5.6302939711%\n",
      "k: 3 weights: distance algorithm: kd_tree test_error: 5.58046836074%\n",
      "k: 4 weights: distance algorithm: kd_tree test_error: 5.58046836074%\n",
      "k: 5 weights: distance algorithm: kd_tree test_error: 6.07872446437%\n",
      "k: 6 weights: distance algorithm: kd_tree test_error: 5.82959641256%\n",
      "k: 7 weights: distance algorithm: kd_tree test_error: 6.67663178874%\n",
      "k: 8 weights: distance algorithm: kd_tree test_error: 6.27802690583%\n",
      "k: 9 weights: distance algorithm: kd_tree test_error: 6.97558545092%\n",
      "k: 1 weights: uniform algorithm: brute test_error: 5.6302939711%\n",
      "k: 2 weights: uniform algorithm: brute test_error: 8.22122571001%\n",
      "k: 3 weights: uniform algorithm: brute test_error: 5.58046836074%\n",
      "k: 4 weights: uniform algorithm: brute test_error: 7.17488789238%\n",
      "k: 5 weights: uniform algorithm: brute test_error: 6.12855007474%\n",
      "k: 6 weights: uniform algorithm: brute test_error: 7.92227204783%\n",
      "k: 7 weights: uniform algorithm: brute test_error: 6.67663178874%\n",
      "k: 8 weights: uniform algorithm: brute test_error: 7.92227204783%\n",
      "k: 9 weights: uniform algorithm: brute test_error: 7.07523667165%\n",
      "k: 1 weights: distance algorithm: brute test_error: 5.6302939711%\n",
      "k: 2 weights: distance algorithm: brute test_error: 5.6302939711%\n",
      "k: 3 weights: distance algorithm: brute test_error: 5.58046836074%\n",
      "k: 4 weights: distance algorithm: brute test_error: 5.58046836074%\n",
      "k: 5 weights: distance algorithm: brute test_error: 6.07872446437%\n",
      "k: 6 weights: distance algorithm: brute test_error: 5.82959641256%\n",
      "k: 7 weights: distance algorithm: brute test_error: 6.67663178874%\n",
      "k: 8 weights: distance algorithm: brute test_error: 6.27802690583%\n",
      "k: 9 weights: distance algorithm: brute test_error: 6.97558545092%\n"
     ]
    }
   ],
   "source": [
    "for algorithm in ['auto', 'ball_tree', 'kd_tree', 'brute']:\n",
    "    for weights in ['uniform', 'distance']:\n",
    "        for k in range(1, 10):\n",
    "            clf = neighbors.KNeighborsClassifier(k, weights=weights, algorithm=algorithm)\n",
    "            clf.fit(train_x, train_y_cat)\n",
    "            res = clf.predict(test_x)\n",
    "            print(\"k: {} weights: {} algorithm: {} test_error: {}%\".format(\n",
    "                k, weights, algorithm, 100*np.count_nonzero(test_y - np.argmax(res, axis=1))\n",
    "                                       /float(len(test_y_cat))))"
   ]
  },
  {
   "cell_type": "code",
   "execution_count": null,
   "metadata": {
    "collapsed": true
   },
   "outputs": [],
   "source": []
  }
 ],
 "metadata": {
  "kernelspec": {
   "display_name": "Python 2",
   "language": "python",
   "name": "python2"
  },
  "language_info": {
   "codemirror_mode": {
    "name": "ipython",
    "version": 3
   },
   "file_extension": ".py",
   "mimetype": "text/x-python",
   "name": "python",
   "nbconvert_exporter": "python",
   "pygments_lexer": "ipython3",
   "version": "3.7.0"
  }
 },
 "nbformat": 4,
 "nbformat_minor": 2
}
