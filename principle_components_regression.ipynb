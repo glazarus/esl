{
 "cells": [
  {
   "cell_type": "code",
   "execution_count": 6,
   "metadata": {},
   "outputs": [],
   "source": [
    "import numpy as np\n",
    "import numpy.linalg as LA\n",
    "import matplotlib.pyplot as plt\n",
    "from sklearn.model_selection import train_test_split\n",
    "from sklearn.metrics import r2_score\n",
    "from sklearn.linear_model import LinearRegression\n",
    "from sklearn.datasets import load_diabetes"
   ]
  },
  {
   "cell_type": "code",
   "execution_count": 52,
   "metadata": {},
   "outputs": [],
   "source": [
    "def generateTrainTest():\n",
    "    sample_set = load_diabetes()\n",
    "    train_X, test_X, train_Y, test_Y = train_test_split(sample_set.data, sample_set.target, test_size=.2)\n",
    "    return train_X, test_X, train_Y, test_Y"
   ]
  },
  {
   "cell_type": "code",
   "execution_count": 53,
   "metadata": {},
   "outputs": [],
   "source": [
    "train_X, test_X, train_Y, test_Y = generateTrainTest()"
   ]
  },
  {
   "cell_type": "code",
   "execution_count": 57,
   "metadata": {},
   "outputs": [
    {
     "name": "stdout",
     "output_type": "stream",
     "text": [
      "Train score: -3.4760061474\n",
      "Test score: -3.20657964569\n"
     ]
    }
   ],
   "source": [
    "ols_model = LinearRegression(fit_intercept=False).fit(train_X, train_Y)\n",
    "print('Train score: {}'.format(ols_model.score(train_X, train_Y)))\n",
    "print('Test score: {}'.format(ols_model.score(test_X, test_Y)))"
   ]
  },
  {
   "cell_type": "code",
   "execution_count": 58,
   "metadata": {},
   "outputs": [],
   "source": [
    "def pcr(X, Y, k):\n",
    "    assert k <= X.shape[1]\n",
    "    u, s, v = np.linalg.svd(X)\n",
    "    vk = v[:, :k]\n",
    "    Wk = np.dot(X, vk)\n",
    "    gamma_hat = np.dot(np.dot(np.linalg.inv(np.dot(Wk.T, Wk)), Wk.T), Y)\n",
    "    return np.dot(vk, gamma_hat)"
   ]
  },
  {
   "cell_type": "code",
   "execution_count": 66,
   "metadata": {},
   "outputs": [
    {
     "data": {
      "text/plain": [
       "array([ -93.18315689, -235.3122308 ,  658.66324423,  183.56446806,\n",
       "       -878.25360546,  674.24579341,  220.561198  , -103.7852363 ,\n",
       "        993.00027854,   53.13006703])"
      ]
     },
     "execution_count": 66,
     "metadata": {},
     "output_type": "execute_result"
    }
   ],
   "source": [
    "pcr(train_X, train_Y, 10)"
   ]
  },
  {
   "cell_type": "code",
   "execution_count": 60,
   "metadata": {},
   "outputs": [
    {
     "data": {
      "text/plain": [
       "array([ -93.18315689, -235.3122308 ,  658.66324423,  183.56446806,\n",
       "       -878.25360546,  674.24579341,  220.561198  , -103.7852363 ,\n",
       "        993.00027854,   53.13006703])"
      ]
     },
     "execution_count": 60,
     "metadata": {},
     "output_type": "execute_result"
    }
   ],
   "source": [
    "ols_model.coef_"
   ]
  },
  {
   "cell_type": "code",
   "execution_count": 61,
   "metadata": {},
   "outputs": [],
   "source": [
    "from sklearn.model_selection import GridSearchCV\n",
    "from sklearn.base import BaseEstimator"
   ]
  },
  {
   "cell_type": "code",
   "execution_count": 62,
   "metadata": {},
   "outputs": [],
   "source": [
    "class MyPCREstimator(BaseEstimator):\n",
    "    def __init__(self, directions=1):\n",
    "        self.bhat_ = None\n",
    "        self.directions=directions\n",
    "        \n",
    "    def fit(self, X, y):\n",
    "        self.bhat_ = pcr(X, y, self.directions)\n",
    "    \n",
    "    def predict(self, X):\n",
    "        assert self.bhat_ is not None, 'Estimator not fit'\n",
    "        return np.dot(X, self.bhat_)\n",
    "\n",
    "fit_cv = GridSearchCV(MyPCREstimator(), {'directions': range(1, train_X.shape[1] + 1)}, 'r2').fit(train_X, train_Y)"
   ]
  },
  {
   "cell_type": "code",
   "execution_count": 63,
   "metadata": {},
   "outputs": [
    {
     "name": "stdout",
     "output_type": "stream",
     "text": [
      "Train_score: -3.48534434528\n",
      "Test_score: -3.11237061038\n"
     ]
    }
   ],
   "source": [
    "print('Train_score: {}'.format(r2_score(train_Y, fit_cv.predict(train_X))))\n",
    "print('Test_score: {}'.format(r2_score(test_Y, fit_cv.predict(test_X))))"
   ]
  }
 ],
 "metadata": {
  "kernelspec": {
   "display_name": "Python 2",
   "language": "python",
   "name": "python2"
  },
  "language_info": {
   "codemirror_mode": {
    "name": "ipython",
    "version": 2
   },
   "file_extension": ".py",
   "mimetype": "text/x-python",
   "name": "python",
   "nbconvert_exporter": "python",
   "pygments_lexer": "ipython2",
   "version": "2.7.15"
  }
 },
 "nbformat": 4,
 "nbformat_minor": 2
}
